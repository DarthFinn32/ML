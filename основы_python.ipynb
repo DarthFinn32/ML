{
  "cells": [
    {
      "cell_type": "markdown",
      "metadata": {
        "id": "M-DGa20PaHnu"
      },
      "source": [
        "#Задача 1\n",
        "Написать функцию на вход которой подается строка, состоящая из латинских букв.\n",
        "Функция должна вернуть количество гласных букв (a, e, i, o, u) в этой строке. Написать тесты для кода"
      ]
    },
    {
      "cell_type": "code",
      "execution_count": 2,
      "metadata": {
        "id": "XvX8X_JJ6PCb"
      },
      "outputs": [
        {
          "name": "stdout",
          "output_type": "stream",
          "text": [
            "3\n",
            "6\n"
          ]
        }
      ],
      "source": [
        "def count_vowels(s: str):\n",
        "    is_vowel = lambda x: x.lower() in ['a', 'e', 'i', 'o', 'u']\n",
        "    return sum(map(is_vowel, s))\n",
        "\n",
        "print(count_vowels('anime'))\n",
        "print(count_vowels('animefyjdstymyfvupdyrttE%ztrskilgt'))"
      ]
    },
    {
      "cell_type": "markdown",
      "metadata": {
        "id": "t2ClV_Y0bbr6"
      },
      "source": [
        "# Задача 2\n",
        "Написать функцию на вход, которой подается строка. Функция должна вернуть true, если\n",
        "каждый символ в строке встречается только 1 раз, иначе должна вернуть false. Написать тесты для кода"
      ]
    },
    {
      "cell_type": "code",
      "execution_count": 9,
      "metadata": {
        "id": "FppbECao6VIz"
      },
      "outputs": [
        {
          "name": "stdout",
          "output_type": "stream",
          "text": [
            "consists_of_unique_symbols('I love cats!') =  True\n",
            "consists_of_unique_symbols('Japanese animation! ^_^') =  False\n"
          ]
        }
      ],
      "source": [
        "def consists_of_unique_symbols(string: str):\n",
        "    pure_string = [letter for letter in string if letter.isalnum()]\n",
        "\n",
        "    return len(set(pure_string)) == len(pure_string)\n",
        "\n",
        "print('consists_of_unique_symbols(\\'I love cats!\\') = ', consists_of_unique_symbols('I love cats!'))\n",
        "print('consists_of_unique_symbols(\\'Japanese animation! ^_^\\') = ', consists_of_unique_symbols('Japanese animation! ^_^'))"
      ]
    },
    {
      "cell_type": "markdown",
      "metadata": {
        "id": "udRiIK1cdt6E"
      },
      "source": [
        "# Задача 3\n",
        "Написать функцию, которая принимает положительное число и возвращает количество\n",
        "бит равных 1 в этом числе. Написать тесты для кода"
      ]
    },
    {
      "cell_type": "code",
      "execution_count": null,
      "metadata": {
        "id": "6tkfDJRz6dp_"
      },
      "outputs": [],
      "source": [
        "def count_ones_in_binary(n: int):\n",
        "    return n.bit_count()\n",
        "\n",
        "\n",
        "print('count_ones_in_binary(5) = ', count_ones_in_binary(5))\n",
        "print('count_ones_in_binary(8) = ', count_ones_in_binary(8))\n",
        "print('count_ones_in_binary(51) = ', count_ones_in_binary(51))\n",
        "print('count_ones_in_binary(127) = ', count_ones_in_binary(127))"
      ]
    },
    {
      "cell_type": "markdown",
      "metadata": {
        "id": "26dDUz-Ae17N"
      },
      "source": [
        "# Задача 4\n",
        "Написать функцию, которая принимает положительное число. Функция должна вернуть то,\n",
        "сколько раз необходимо перемножать цифры числа или результат перемножения, чтобы\n",
        "получилось число состоящее из одной цифры.\n",
        "Например, для входного числа:\n",
        "· 39 функция должна вернуть 3, так как 3*9=27 => 2*7=14 => 1*4=4\n",
        "· 4 функция должна вернуть 0, так как число уже состоит из одной цифры\n",
        "· 999 функция должна вернуть 4, так как 9*9*9=729 => 7*2*9=126 => 1*2*6=12 =>\n",
        "1*2=2. Написать тесты для кода"
      ]
    },
    {
      "cell_type": "code",
      "execution_count": 10,
      "metadata": {
        "id": "BH1A_Mgi6i4G"
      },
      "outputs": [
        {
          "name": "stdout",
          "output_type": "stream",
          "text": [
            "magic(39) =  3\n",
            "magic(8) =  0\n",
            "magic(999) =  4\n"
          ]
        }
      ],
      "source": [
        "from math import prod\n",
        "\n",
        "\n",
        "def magic(n: int):\n",
        "    counter = 0\n",
        "\n",
        "    while len(str(n)) > 1:\n",
        "        decimal_digits = [int(digit) for digit in str(n)]\n",
        "\n",
        "        n = prod(decimal_digits)\n",
        "\n",
        "        counter += 1\n",
        "\n",
        "    return counter\n",
        "\n",
        "\n",
        "print('magic(39) = ', magic(39))\n",
        "print('magic(8) = ', magic(8))\n",
        "print('magic(999) = ', magic(999))"
      ]
    },
    {
      "cell_type": "markdown",
      "metadata": {
        "id": "0nS-kIa8g8vd"
      },
      "source": [
        "# Задача 5\n",
        "Написать функцию, которая принимает два целочисленных вектора одинаковой длины и\n",
        "возвращает среднеквадратическое отклонение двух векторов. Написать тесты для кода"
      ]
    },
    {
      "cell_type": "code",
      "execution_count": 15,
      "metadata": {
        "id": "8iphx4LM6xbx"
      },
      "outputs": [
        {
          "name": "stdout",
          "output_type": "stream",
          "text": [
            "MSE: 0.6324555320336759\n"
          ]
        }
      ],
      "source": [
        "import math\n",
        "def mse(pred, true):\n",
        "    if len(pred) != len(true):\n",
        "        raise ValueError(\"Векторы должны быть одинаковой длины\")\n",
        "    \n",
        "    squared_errors = [(pred[i] - true[i]) ** 2 for i in range(len(pred))]\n",
        "    mse_value = math.sqrt(sum(squared_errors) / len(pred))\n",
        "    \n",
        "    return mse_value\n",
        "\n",
        "pred = [1, 2, 3, 4, 5]\n",
        "true = [2, 2, 3, 5, 5]\n",
        "\"\"\"\n",
        "pred = [1, 2, 3]\n",
        "true = [2, 2, 3]\n",
        "pred = [1, 2, 3]\n",
        "true = [1, 2, 3]\n",
        "pred = [1, 2, 3]\n",
        "true = [1, 2, 3, 4]\n",
        "\"\"\"\n",
        "result = mse(pred, true)\n",
        "print(f\"MSE: {result}\")"
      ]
    },
    {
      "cell_type": "markdown",
      "metadata": {
        "id": "vpIPKL439zkw"
      },
      "source": [
        "# Задача 6\n",
        "Написать функцию, принимающая целое положительное число. Функция должна вернуть\n",
        "строку вида “(n1**p1)(n2**p2)…(nk**pk)” представляющая разложение числа на простые\n",
        "множители (если pi == 1, то выводить только ni).\n",
        "Например, для числа 86240 функция должна вернуть “(2**5)(5)(7**2)(11)”. Написать тесты для кода"
      ]
    },
    {
      "cell_type": "code",
      "execution_count": 5,
      "metadata": {
        "id": "pFebmcZk94Jw"
      },
      "outputs": [
        {
          "name": "stdout",
          "output_type": "stream",
          "text": [
            "(2**5)(5)(7**2)(11)\n"
          ]
        }
      ],
      "source": [
        "def prime_factors(n):\n",
        "    factors = []\n",
        "    divisor = 2\n",
        "    while n > 1:\n",
        "        count = 0\n",
        "        while n % divisor == 0:\n",
        "            count += 1\n",
        "            n //= divisor\n",
        "        if count > 0:\n",
        "            factors.append((divisor, count))\n",
        "        divisor += 1\n",
        "    result = ''\n",
        "    for factor in factors:\n",
        "        if factor[1] == 1:\n",
        "            result += f'({factor[0]})'\n",
        "        else:\n",
        "            result += f'({factor[0]}**{factor[1]})'\n",
        "    return result\n",
        "\n",
        "number = 86240\n",
        "'''\n",
        "number = 2\n",
        "number = 10\n",
        "'''\n",
        "result = prime_factors(number)\n",
        "print(result)"
      ]
    },
    {
      "cell_type": "markdown",
      "metadata": {
        "id": "ps2s0BudX7A2"
      },
      "source": [
        "# Задача 7\n",
        "Написать функцию, принимающая целое число n, задающее количество кубиков. Функция\n",
        "должна определить, можно ли из данного кол-ва кубиков построить пирамиду, то есть\n",
        "можно ли представить число n как 1^2+2^2+3^2+…+k^2. Если можно, то функция должна\n",
        "вернуть k, иначе строку “It is impossible”. Написать тесты для кода"
      ]
    },
    {
      "cell_type": "code",
      "execution_count": 3,
      "metadata": {
        "id": "3YPjEXxhX_YT"
      },
      "outputs": [
        {
          "name": "stdout",
          "output_type": "stream",
          "text": [
            "4\n"
          ]
        }
      ],
      "source": [
        "def pyramid(number):\n",
        "    total = 0\n",
        "    k = 0\n",
        "\n",
        "    while total < n:\n",
        "        k += 1\n",
        "        total += k ** 2\n",
        "\n",
        "    if total == n:\n",
        "        return k\n",
        "    else:\n",
        "        return \"It is impossible\"\n",
        "\n",
        "\n",
        "n = 30\n",
        "'''\n",
        "n = 1\n",
        "n = 5\n",
        "n = 14\n",
        "n = 55\n",
        "'''\n",
        "result = pyramid(n)\n",
        "print(result)"
      ]
    },
    {
      "cell_type": "markdown",
      "metadata": {
        "id": "KeKgmIdAQMEJ"
      },
      "source": [
        "# Задача 8\n",
        "Функция принимает на вход положительное число и определяет является ли оно сбалансированным, т.е. сумма цифр до средних равна сумме цифр после. Средними в случае нечетного числа цифр считать одну цифру, в случае четного - две средних. Написать тесты для кода"
      ]
    },
    {
      "cell_type": "code",
      "execution_count": 2,
      "metadata": {
        "id": "gMAAqtqlQrZt"
      },
      "outputs": [
        {
          "name": "stdout",
          "output_type": "stream",
          "text": [
            "Число 123454321 является сбалансированным.\n"
          ]
        }
      ],
      "source": [
        "def is_balanced(num):\n",
        "    num_str = str(num)\n",
        "    length = len(num_str)\n",
        "\n",
        "    if length % 2 == 0:\n",
        "        mid1 = length // 2 - 1\n",
        "        mid2 = length // 2\n",
        "    else:\n",
        "        mid1 = mid2 = length // 2\n",
        "\n",
        "    sum_before = sum(map(int, num_str[:mid1 + 1]))\n",
        "    sum_after = sum(map(int, num_str[mid2:]))\n",
        "\n",
        "    return sum_before == sum_after\n",
        "\n",
        "\n",
        "num = 123454321\n",
        "'''\n",
        "num = 123456\n",
        "num = 12345\n",
        "num = 12321\n",
        "num = 123321\n",
        "'''\n",
        "if is_balanced(num):\n",
        "    print(f\"Число {num} является сбалансированным.\")\n",
        "else:\n",
        "    print(f\"Число {num} не является сбалансированным.\")"
      ]
    }
  ],
  "metadata": {
    "colab": {
      "provenance": []
    },
    "kernelspec": {
      "display_name": "Python 3",
      "name": "python3"
    },
    "language_info": {
      "codemirror_mode": {
        "name": "ipython",
        "version": 3
      },
      "file_extension": ".py",
      "mimetype": "text/x-python",
      "name": "python",
      "nbconvert_exporter": "python",
      "pygments_lexer": "ipython3",
      "version": "3.11.5"
    }
  },
  "nbformat": 4,
  "nbformat_minor": 0
}
